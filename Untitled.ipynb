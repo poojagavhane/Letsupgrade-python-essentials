{
  "nbformat": 4,
  "nbformat_minor": 0,
  "metadata": {
    "colab": {
      "name": "Untitled",
      "provenance": [],
      "collapsed_sections": [],
      "authorship_tag": "ABX9TyNYPHX7auvZmu4kFKhDInzv",
      "include_colab_link": true
    },
    "kernelspec": {
      "name": "python3",
      "display_name": "Python 3"
    }
  },
  "cells": [
    {
      "cell_type": "markdown",
      "metadata": {
        "id": "view-in-github",
        "colab_type": "text"
      },
      "source": [
        "<a href=\"https://colab.research.google.com/github/poojagavhane/Letsupgrade-python-essentials/blob/master/Untitled.ipynb\" target=\"_parent\"><img src=\"https://colab.research.google.com/assets/colab-badge.svg\" alt=\"Open In Colab\"/></a>"
      ]
    },
    {
      "cell_type": "code",
      "metadata": {
        "id": "yLNto-1G5-_M",
        "colab_type": "code",
        "colab": {
          "base_uri": "https://localhost:8080/",
          "height": 106
        },
        "outputId": "ae061d51-f08a-4cf1-c814-289f32aa1c07"
      },
      "source": [
        " \n",
        "# assignment 1\n",
        " def inputfunction(functionality_function):\n",
        "    def wrap_function():\n",
        "        a=int(input('Enter the first number-'))\n",
        "        b=int(input('Enter the second number-'))\n",
        "        functionality_function(a,b)\n",
        "    return wrap_function    \n",
        " \n",
        "@inputfunction\n",
        "def fibonacci(a,b):\n",
        "    count=0\n",
        "    nterms=int(input('Enter the range of fibonocci series-'))\n",
        "    if nterms<=0:\n",
        "        print('Enter the positive number')\n",
        "    elif nterms==1:\n",
        "        print('Fibonocci series is')\n",
        "        print(a)\n",
        "    else:\n",
        "        print('Fibonocci series is')\n",
        "        while count<=nterms:\n",
        "            print(a,end=' ')\n",
        "            f=a+b\n",
        "            a=b\n",
        "            b=f\n",
        "            count+=1\n",
        "          \n",
        " \n",
        "fibonacci()"
      ],
      "execution_count": null,
      "outputs": [
        {
          "output_type": "stream",
          "text": [
            "Enter the first number--1\n",
            "Enter the second number--3\n",
            "Enter the range of fibonocci series--10\n",
            "Enter the positive number\n"
          ],
          "name": "stdout"
        }
      ]
    },
    {
      "cell_type": "code",
      "metadata": {
        "id": "OHr9_zat6Ftx",
        "colab_type": "code",
        "colab": {
          "base_uri": "https://localhost:8080/",
          "height": 69
        },
        "outputId": "d6b3533e-6567-4ab5-c52e-d5bdad811865"
      },
      "source": [
        "@inputfunction\n",
        "def addition(a,b):\n",
        "    print('addition is-',a+b)\n",
        " \n",
        "addition()"
      ],
      "execution_count": null,
      "outputs": [
        {
          "output_type": "stream",
          "text": [
            "Enter the first number-10\n",
            "Enter the second number-3\n",
            "addition is- 13\n"
          ],
          "name": "stdout"
        }
      ]
    },
    {
      "cell_type": "code",
      "metadata": {
        "id": "lBtezi6-7EbH",
        "colab_type": "code",
        "colab": {}
      },
      "source": [
        " #assig 2\n",
        "fhand=open('Day6_Assignments.ipynb','w')\n",
        "fhand.write(input())\n",
        "fhand.close()"
      ],
      "execution_count": null,
      "outputs": []
    },
    {
      "cell_type": "code",
      "metadata": {
        "id": "ij3KlFFy7sBI",
        "colab_type": "code",
        "colab": {}
      },
      "source": [
        " fread=open('Day6_Assignments.ipynb','r')\n",
        "readfile=fread.read()\n",
        "print(readfile)\n",
        "fread.close()"
      ],
      "execution_count": null,
      "outputs": []
    },
    {
      "cell_type": "code",
      "metadata": {
        "id": "HqmkLYez8L0p",
        "colab_type": "code",
        "colab": {}
      },
      "source": [
        " try:\n",
        "    writefile=fread.write(input())\n",
        "    print(writefile)\n",
        "except:\n",
        "    print('file cannot be written since it is open in read mode')"
      ],
      "execution_count": null,
      "outputs": []
    }
  ]
}