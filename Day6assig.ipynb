{
  "nbformat": 4,
  "nbformat_minor": 0,
  "metadata": {
    "colab": {
      "name": "Day6assig",
      "provenance": [],
      "authorship_tag": "ABX9TyMswchEefFzGA3kqUJVWQ16",
      "include_colab_link": true
    },
    "kernelspec": {
      "name": "python3",
      "display_name": "Python 3"
    }
  },
  "cells": [
    {
      "cell_type": "markdown",
      "metadata": {
        "id": "view-in-github",
        "colab_type": "text"
      },
      "source": [
        "<a href=\"https://colab.research.google.com/github/poojagavhane/Letsupgrade-python-essentials/blob/master/Day6assig.ipynb\" target=\"_parent\"><img src=\"https://colab.research.google.com/assets/colab-badge.svg\" alt=\"Open In Colab\"/></a>"
      ]
    },
    {
      "cell_type": "code",
      "metadata": {
        "id": "IKzqARIQ366P",
        "colab_type": "code",
        "colab": {
          "base_uri": "https://localhost:8080/",
          "height": 52
        },
        "outputId": "add12aff-76d9-49e4-9211-724e2dc01c6d"
      },
      "source": [
        " class bankaccount:\n",
        "    def __init__(self,ownerName,balance):\n",
        "        self.ownerName=ownerName\n",
        "        self.balance=balance\n",
        "    def deposit(self,dep):\n",
        "        self.balance=self.balance+dep\n",
        "        return 'your account is deposited with '+str(dep)+' and the available balance is '+str(self.balance)\n",
        "    def withdraw(self,wdr):\n",
        "        if wdr>self.balance:\n",
        "            return 'your account doesnt have sufficient balance'\n",
        "        else:\n",
        "            self.balance=self.balance-wdr\n",
        "            return str(wdr)+' is withdrawn and the balance remaining is '+str(self.balance)\n",
        " \n",
        " \n",
        " \n",
        "myaccount=bankaccount('Pooja',45000)\n",
        " \n",
        " \n",
        "myaccount.deposit(10000)\n",
        " \n",
        " \n",
        "myaccount.withdraw(20000)"
      ],
      "execution_count": null,
      "outputs": [
        {
          "output_type": "execute_result",
          "data": {
            "application/vnd.google.colaboratory.intrinsic+json": {
              "type": "string"
            },
            "text/plain": [
              "'90000 is withdrawn and the balance remaining is 35000'"
            ]
          },
          "metadata": {
            "tags": []
          },
          "execution_count": 1
        }
      ]
    },
    {
      "cell_type": "code",
      "metadata": {
        "id": "LUasbuPc4b-5",
        "colab_type": "code",
        "colab": {
          "base_uri": "https://localhost:8080/",
          "height": 34
        },
        "outputId": "a54bf385-3a60-444e-e40d-47f3218b525d"
      },
      "source": [
        " import math\n",
        "class cone:\n",
        "    def __init__(self,r,h):\n",
        "        self.r=r\n",
        "        self.h=h\n",
        "    def volume(self):\n",
        "        return math.pi*self.r*self.r*(self.h/3)\n",
        "    def surface_area(self):\n",
        "        return math.pi*self.r*(self.r+math.sqrt(self.h**2+self.r**2))\n",
        " \n",
        "c=cone(5,7)\n",
        " \n",
        "c.volume()"
      ],
      "execution_count": 4,
      "outputs": [
        {
          "output_type": "execute_result",
          "data": {
            "text/plain": [
              "183.2595714594046"
            ]
          },
          "metadata": {
            "tags": []
          },
          "execution_count": 4
        }
      ]
    }
  ]
}