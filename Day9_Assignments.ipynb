{
  "nbformat": 4,
  "nbformat_minor": 0,
  "metadata": {
    "colab": {
      "name": "Copy of Day9_Assignments.ipynb",
      "provenance": [],
      "include_colab_link": true
    },
    "kernelspec": {
      "name": "python3",
      "display_name": "Python 3"
    }
  },
  "cells": [
    {
      "cell_type": "markdown",
      "metadata": {
        "id": "view-in-github",
        "colab_type": "text"
      },
      "source": [
        "<a href=\"https://colab.research.google.com/github/poojagavhane/Letsupgrade-python-essentials/blob/master/Day9_Assignments.ipynb\" target=\"_parent\"><img src=\"https://colab.research.google.com/assets/colab-badge.svg\" alt=\"Open In Colab\"/></a>"
      ]
    },
    {
      "cell_type": "code",
      "metadata": {
        "id": "YuqnhdHfqv2O",
        "colab_type": "code",
        "colab": {}
      },
      "source": [
        ""
      ],
      "execution_count": null,
      "outputs": []
    },
    {
      "cell_type": "markdown",
      "metadata": {
        "id": "hGHFQ-rlrexI",
        "colab_type": "text"
      },
      "source": [
        " Assignment 1 : Write a Python Function for finding a given number is prime or not and do unit testing on it using PyLint and Unittest Library\n"
      ]
    },
    {
      "cell_type": "markdown",
      "metadata": {
        "id": "_B39CMOLrhjb",
        "colab_type": "text"
      },
      "source": [
        "\n"
      ]
    },
    {
      "cell_type": "markdown",
      "metadata": {
        "id": "HvCasbDwrm4a",
        "colab_type": "text"
      },
      "source": [
        ""
      ]
    },
    {
      "cell_type": "code",
      "metadata": {
        "id": "zSMJwHlxrnVJ",
        "colab_type": "code",
        "colab": {
          "base_uri": "https://localhost:8080/",
          "height": 411
        },
        "outputId": "3184f5c4-c045-4d00-ecc1-0939175b2078"
      },
      "source": [
        "get_ipython().system(' pip install pylint')\n"
      ],
      "execution_count": null,
      "outputs": [
        {
          "output_type": "stream",
          "text": [
            "Collecting pylint\n",
            "\u001b[?25l  Downloading https://files.pythonhosted.org/packages/fb/13/519c1264a134beab2be4bac8dd3e64948980a5ca7833b31cf0255b21f20a/pylint-2.6.0-py3-none-any.whl (325kB)\n",
            "\u001b[K     |████████████████████████████████| 327kB 2.8MB/s \n",
            "\u001b[?25hCollecting astroid<=2.5,>=2.4.0\n",
            "\u001b[?25l  Downloading https://files.pythonhosted.org/packages/24/a8/5133f51967fb21e46ee50831c3f5dda49e976b7f915408d670b1603d41d6/astroid-2.4.2-py3-none-any.whl (213kB)\n",
            "\u001b[K     |████████████████████████████████| 215kB 11.2MB/s \n",
            "\u001b[?25hCollecting isort<6,>=4.2.5\n",
            "\u001b[?25l  Downloading https://files.pythonhosted.org/packages/d1/25/7ed95ccb07d3ce52598f5a57d002da6a18074ea8749991b10936cc20e539/isort-5.5.2-py3-none-any.whl (95kB)\n",
            "\u001b[K     |████████████████████████████████| 102kB 7.9MB/s \n",
            "\u001b[?25hRequirement already satisfied: toml>=0.7.1 in /usr/local/lib/python3.6/dist-packages (from pylint) (0.10.1)\n",
            "Collecting mccabe<0.7,>=0.6\n",
            "  Downloading https://files.pythonhosted.org/packages/87/89/479dc97e18549e21354893e4ee4ef36db1d237534982482c3681ee6e7b57/mccabe-0.6.1-py2.py3-none-any.whl\n",
            "Collecting typed-ast<1.5,>=1.4.0; implementation_name == \"cpython\" and python_version < \"3.8\"\n",
            "\u001b[?25l  Downloading https://files.pythonhosted.org/packages/90/ed/5459080d95eb87a02fe860d447197be63b6e2b5e9ff73c2b0a85622994f4/typed_ast-1.4.1-cp36-cp36m-manylinux1_x86_64.whl (737kB)\n",
            "\u001b[K     |████████████████████████████████| 747kB 12.7MB/s \n",
            "\u001b[?25hRequirement already satisfied: wrapt~=1.11 in /usr/local/lib/python3.6/dist-packages (from astroid<=2.5,>=2.4.0->pylint) (1.12.1)\n",
            "Collecting lazy-object-proxy==1.4.*\n",
            "\u001b[?25l  Downloading https://files.pythonhosted.org/packages/0b/dd/b1e3407e9e6913cf178e506cd0dee818e58694d9a5cd1984e3f6a8b9a10f/lazy_object_proxy-1.4.3-cp36-cp36m-manylinux1_x86_64.whl (55kB)\n",
            "\u001b[K     |████████████████████████████████| 61kB 7.5MB/s \n",
            "\u001b[?25hRequirement already satisfied: six~=1.12 in /usr/local/lib/python3.6/dist-packages (from astroid<=2.5,>=2.4.0->pylint) (1.15.0)\n",
            "Installing collected packages: typed-ast, lazy-object-proxy, astroid, isort, mccabe, pylint\n",
            "Successfully installed astroid-2.4.2 isort-5.5.2 lazy-object-proxy-1.4.3 mccabe-0.6.1 pylint-2.6.0 typed-ast-1.4.1\n"
          ],
          "name": "stdout"
        }
      ]
    },
    {
      "cell_type": "code",
      "metadata": {
        "id": "TrZa-i5HrzDX",
        "colab_type": "code",
        "colab": {
          "base_uri": "https://localhost:8080/",
          "height": 326
        },
        "outputId": "c72c4697-b51d-4e18-973b-5d39ae56ab19"
      },
      "source": [
        "get_ipython().system(' pip install unittest2')\n"
      ],
      "execution_count": null,
      "outputs": [
        {
          "output_type": "stream",
          "text": [
            "Collecting unittest2\n",
            "\u001b[?25l  Downloading https://files.pythonhosted.org/packages/72/20/7f0f433060a962200b7272b8c12ba90ef5b903e218174301d0abfd523813/unittest2-1.1.0-py2.py3-none-any.whl (96kB)\n",
            "\r\u001b[K     |███▍                            | 10kB 18.8MB/s eta 0:00:01\r\u001b[K     |██████▉                         | 20kB 1.7MB/s eta 0:00:01\r\u001b[K     |██████████▏                     | 30kB 2.3MB/s eta 0:00:01\r\u001b[K     |█████████████▋                  | 40kB 2.6MB/s eta 0:00:01\r\u001b[K     |█████████████████               | 51kB 2.0MB/s eta 0:00:01\r\u001b[K     |████████████████████▍           | 61kB 2.3MB/s eta 0:00:01\r\u001b[K     |███████████████████████▉        | 71kB 2.5MB/s eta 0:00:01\r\u001b[K     |███████████████████████████▏    | 81kB 2.7MB/s eta 0:00:01\r\u001b[K     |██████████████████████████████▋ | 92kB 2.9MB/s eta 0:00:01\r\u001b[K     |████████████████████████████████| 102kB 2.6MB/s \n",
            "\u001b[?25hRequirement already satisfied: six>=1.4 in /usr/local/lib/python3.6/dist-packages (from unittest2) (1.15.0)\n",
            "Collecting traceback2\n",
            "  Downloading https://files.pythonhosted.org/packages/17/0a/6ac05a3723017a967193456a2efa0aa9ac4b51456891af1e2353bb9de21e/traceback2-1.4.0-py2.py3-none-any.whl\n",
            "Collecting argparse\n",
            "  Downloading https://files.pythonhosted.org/packages/f2/94/3af39d34be01a24a6e65433d19e107099374224905f1e0cc6bbe1fd22a2f/argparse-1.4.0-py2.py3-none-any.whl\n",
            "Collecting linecache2\n",
            "  Downloading https://files.pythonhosted.org/packages/c7/a3/c5da2a44c85bfbb6eebcfc1dde24933f8704441b98fdde6528f4831757a6/linecache2-1.0.0-py2.py3-none-any.whl\n",
            "Installing collected packages: linecache2, traceback2, argparse, unittest2\n",
            "Successfully installed argparse-1.4.0 linecache2-1.0.0 traceback2-1.4.0 unittest2-1.1.0\n"
          ],
          "name": "stdout"
        },
        {
          "output_type": "display_data",
          "data": {
            "application/vnd.colab-display-data+json": {
              "pip_warning": {
                "packages": [
                  "argparse"
                ]
              }
            }
          },
          "metadata": {
            "tags": []
          }
        }
      ]
    },
    {
      "cell_type": "code",
      "metadata": {
        "id": "FimGwvdfsCOz",
        "colab_type": "code",
        "colab": {
          "base_uri": "https://localhost:8080/",
          "height": 34
        },
        "outputId": "563ec626-39b2-4d69-f59f-fd211bebadcd"
      },
      "source": [
        "get_ipython().run_cell_magic('writefile', 'primefile.py', \"'''\\nThis file returns true if number is prime else its returns false\\n'''\\n\\ndef isprimeornot(num):\\n    '''\\n    Functions return whether the number is prime or not.\\n    '''\\n    if num > 1:\\n        for item in range(2, num):\\n            if num%item == 0:\\n                return str(num)+' is not prime'\\n        else:\\n            return str(num)+' is prime'\\n\\nNUM = int(input('Enter the number - '))\\nSTRING = isprimeornot(NUM)\\nprint(STRING)\")\n"
      ],
      "execution_count": null,
      "outputs": [
        {
          "output_type": "stream",
          "text": [
            "Writing primefile.py\n"
          ],
          "name": "stdout"
        }
      ]
    },
    {
      "cell_type": "code",
      "metadata": {
        "id": "qjumYdlpsLqG",
        "colab_type": "code",
        "colab": {
          "base_uri": "https://localhost:8080/",
          "height": 153
        },
        "outputId": "faecf510-0801-44d1-9950-dc0551a85046"
      },
      "source": [
        "get_ipython().system(' pylint \"primefile.py\"')\n"
      ],
      "execution_count": null,
      "outputs": [
        {
          "output_type": "stream",
          "text": [
            "************* Module primefile\n",
            "primefile.py:18:0: C0304: Final newline missing (missing-final-newline)\n",
            "primefile.py:13:8: W0120: Else clause on loop without a break statement (useless-else-on-loop)\n",
            "primefile.py:5:0: R1710: Either all return statements in a function should return an expression, or none of them should. (inconsistent-return-statements)\n",
            "\n",
            "-----------------------------------\n",
            "Your code has been rated at 6.67/10\n",
            "\n"
          ],
          "name": "stdout"
        }
      ]
    },
    {
      "cell_type": "code",
      "metadata": {
        "id": "q8l4LunKsTi5",
        "colab_type": "code",
        "colab": {
          "base_uri": "https://localhost:8080/",
          "height": 68
        },
        "outputId": "8391e962-e029-43d0-d88f-8aace2ccfc52"
      },
      "source": [
        "import primefile\n",
        "\n",
        "get_ipython().run_cell_magic('writefile', 'testprime.py', '\\nimport primefile\\nimport unittest2\\n\\nclass testprime(unittest2.TestCase):\\n    def testnumber(self):\\n        num = 6\\n        result = primefile.isprimeornot(num)\\n        self.assertEqual(result,\\'6 is not prime\\')\\n        \\nif __name__ == \"__main__\":\\n    unittest2.main()')"
      ],
      "execution_count": null,
      "outputs": [
        {
          "output_type": "stream",
          "text": [
            "Enter the number - 8\n",
            "8 is not prime\n",
            "Writing testprime.py\n"
          ],
          "name": "stdout"
        }
      ]
    },
    {
      "cell_type": "code",
      "metadata": {
        "id": "aBb3TkBrscZN",
        "colab_type": "code",
        "colab": {
          "base_uri": "https://localhost:8080/",
          "height": 136
        },
        "outputId": "e70ab8fe-6343-4aee-c7c9-6d2c85e896a4"
      },
      "source": [
        "import testprime\n",
        "\n",
        "get_ipython().system(' python testprime.py')\n"
      ],
      "execution_count": null,
      "outputs": [
        {
          "output_type": "stream",
          "text": [
            "Enter the number - 5\n",
            "5 is prime\n",
            ".\n",
            "----------------------------------------------------------------------\n",
            "Ran 1 test in 0.000s\n",
            "\n",
            "OK\n"
          ],
          "name": "stdout"
        }
      ]
    },
    {
      "cell_type": "markdown",
      "metadata": {
        "id": "OnFYISHcswDr",
        "colab_type": "text"
      },
      "source": [
        "Assignment-2 : Make a generator program for returning armstrong numbers in between 1-1000 in a generator object"
      ]
    },
    {
      "cell_type": "code",
      "metadata": {
        "id": "daxUG-P5s3Gr",
        "colab_type": "code",
        "colab": {
          "base_uri": "https://localhost:8080/",
          "height": 34
        },
        "outputId": "94ebe3f5-81a2-47a6-9ac6-67122ab37155"
      },
      "source": [
        "def armstrongnumber(num):\n",
        "    for item in num:\n",
        "        order=len(str(item))\n",
        "        temp=item\n",
        "        summ=0\n",
        "        while temp>0:\n",
        "            digit=temp%10\n",
        "            summ+=digit**order\n",
        "            temp=temp//10\n",
        "        if item==summ:\n",
        "            yield item\n",
        "\n",
        "lst=list(range(1,1001))\n",
        "\n",
        "print(list(armstrongnumber(lst)))\n"
      ],
      "execution_count": null,
      "outputs": [
        {
          "output_type": "stream",
          "text": [
            "[1, 2, 3, 4, 5, 6, 7, 8, 9, 153, 370, 371, 407]\n"
          ],
          "name": "stdout"
        }
      ]
    }
  ]
}